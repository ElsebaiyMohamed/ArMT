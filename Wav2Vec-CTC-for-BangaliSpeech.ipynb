{
 "cells": [
  {
   "cell_type": "markdown",
   "metadata": {},
   "source": [
    "# Whomi :)\n",
    "\n",
    "Hello there, I hope you all well. I'm Sab3b3, nerd who intrested on ML, DL, NLP and Speech and also study Linguistics. At this dayes i strenghts my knowldges about pros and cons of models and algorithms used specialy in NLP and Speech by ask the folowing questions!\n",
    "\n",
    "1) What is existing sloution for the task in specific language?\n",
    "2) Are the same technique or model can work accros deffrent language and dilactes?\n",
    "3) Why specific models work well on specific group of lanauge and performs baddly?\n",
    "4) Where is the problem? because of language design or model structure or wrong assumption or i missunderstood part of the problem and sloution?\n",
    "5) Are there work on research or industry overcome this problems?\n",
    "6) If there, Is it implemented or not? and if not, Can i implement it?"
   ]
  },
  {
   "cell_type": "markdown",
   "metadata": {},
   "source": [
    "# brief about the problem, sloution and NoteBook organization.\n",
    "\n",
    "## What is problem?\n",
    "\n",
    "\n",
    "## How we will solve it?\n",
    "\n",
    "## Existing datasets!\n",
    "\n",
    "## Step by Step from data to why the model results are!\n",
    "\n",
    "## Conclusion and feuture work"
   ]
  },
  {
   "cell_type": "markdown",
   "metadata": {},
   "source": [
    "# Data Preparetion."
   ]
  },
  {
   "cell_type": "code",
   "execution_count": null,
   "metadata": {},
   "outputs": [],
   "source": []
  },
  {
   "cell_type": "markdown",
   "metadata": {},
   "source": [
    "# Model preparetion"
   ]
  },
  {
   "cell_type": "code",
   "execution_count": null,
   "metadata": {},
   "outputs": [],
   "source": []
  }
 ],
 "metadata": {
  "kernelspec": {
   "display_name": "Python 3",
   "language": "python",
   "name": "python3"
  },
  "language_info": {
   "codemirror_mode": {
    "name": "ipython",
    "version": 3
   },
   "file_extension": ".py",
   "mimetype": "text/x-python",
   "name": "python",
   "nbconvert_exporter": "python",
   "pygments_lexer": "ipython3",
   "version": "3.10.9"
  },
  "orig_nbformat": 4
 },
 "nbformat": 4,
 "nbformat_minor": 2
}
